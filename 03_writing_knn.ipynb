{
 "cells": [
  {
   "cell_type": "code",
   "execution_count": 2,
   "metadata": {},
   "outputs": [
    {
     "data": {
      "image/png": "[encoded data removed]",
      "text/plain": [
       "<matplotlib.figure.Figure at 0x1561144bb00>"
      ]
     },
     "metadata": {},
     "output_type": "display_data"
    }
   ],
   "source": [
    "import matplotlib.pyplot as plt \n",
    "from matplotlib import style\n",
    "\n",
    "\n",
    "style.use('fivethirtyeight')\n",
    "\n",
    "data = {'b' : [[1,1],[2,2],[2,1],[3,2]],\n",
    "       'r' : [[8,9],[7,8],[9,8],[10,8]]}\n",
    "\n",
    "newbie = [3,3]\n",
    "\n",
    "[[plt.scatter(j[0],j[1],s=100,color=i) for j in data[i]] for i in data]\n",
    "plt.scatter(newbie[0],newbie[1])\n",
    "\n",
    "plt.show()\n"
   ]
  },
  {
   "cell_type": "code",
   "execution_count": 3,
   "metadata": {},
   "outputs": [
    {
     "name": "stdout",
     "output_type": "stream",
     "text": [
      "['b', 'b', 'b']\n",
      "[('b', 3)]\n"
     ]
    }
   ],
   "source": [
    "import warnings\n",
    "from collections import Counter\n",
    "import numpy as np \n",
    "\n",
    "def knn(base,x,k=2) : \n",
    "    if len(base) >= k :\n",
    "        warinings.warn('There\\'s more class than data')\n",
    "    \n",
    "    distances = []\n",
    "    for group in base : \n",
    "        for features in base[group] : \n",
    "            # d = np.sqrt(np.square(np.sum((np.array(features) - np.array(x)))))\n",
    "            d = np.linalg.norm(np.array(features) - np.array(x))\n",
    "            distances.append([d,group])\n",
    "            \n",
    "    votes = [i[1] for i in sorted(distances)[:k]]\n",
    "    print(votes)\n",
    "    \n",
    "    vote_result = Counter(votes).most_common(1)[0][0]\n",
    "    print(Counter(votes).most_common(1))\n",
    "    \n",
    "    return vote_result\n",
    "\n",
    "result = knn(base = data,x=newbie,k=3)"
   ]
  },
  {
   "cell_type": "code",
   "execution_count": null,
   "metadata": {},
   "outputs": [],
   "source": []
  }
 ],
 "metadata": {
  "kernelspec": {
   "display_name": "Python 3",
   "language": "python",
   "name": "python3"
  },
  "language_info": {
   "codemirror_mode": {
    "name": "ipython",
    "version": 3
   },
   "file_extension": ".py",
   "mimetype": "text/x-python",
   "name": "python",
   "nbconvert_exporter": "python",
   "pygments_lexer": "ipython3",
   "version": "3.6.2"
  }
 },
 "nbformat": 4,
 "nbformat_minor": 2
}
