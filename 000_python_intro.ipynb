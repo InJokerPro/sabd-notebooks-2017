{
 "cells": [
  {
   "cell_type": "code",
   "execution_count": 7,
   "metadata": {},
   "outputs": [
    {
     "name": "stdout",
     "output_type": "stream",
     "text": [
      "Hello Python!\n"
     ]
    }
   ],
   "source": [
    "print('Hello Python!')"
   ]
  },
  {
   "cell_type": "code",
   "execution_count": 8,
   "metadata": {},
   "outputs": [
    {
     "name": "stdout",
     "output_type": "stream",
     "text": [
      "[1]\n"
     ]
    }
   ],
   "source": [
    "import numpy as np \n",
    "\n",
    "a = np.array([1])\n",
    "print(a)"
   ]
  },
  {
   "cell_type": "code",
   "execution_count": 18,
   "metadata": {},
   "outputs": [
    {
     "name": "stdout",
     "output_type": "stream",
     "text": [
      "[2]\n"
     ]
    }
   ],
   "source": [
    "a[0] = 2\n",
    "print(a)"
   ]
  },
  {
   "cell_type": "code",
   "execution_count": 19,
   "metadata": {},
   "outputs": [
    {
     "name": "stdout",
     "output_type": "stream",
     "text": [
      "[3]\n",
      "[3]\n"
     ]
    }
   ],
   "source": [
    "b = a\n",
    "b[0] = 3\n",
    "print(b)\n",
    "print(a)"
   ]
  },
  {
   "cell_type": "code",
   "execution_count": 20,
   "metadata": {},
   "outputs": [
    {
     "name": "stdout",
     "output_type": "stream",
     "text": [
      "[4]\n",
      "[3]\n"
     ]
    }
   ],
   "source": [
    "c = np.array(a)\n",
    "c[0] = 4\n",
    "print(c)\n",
    "print(a)"
   ]
  },
  {
   "cell_type": "code",
   "execution_count": 21,
   "metadata": {},
   "outputs": [
    {
     "data": {
      "text/plain": [
       "6"
      ]
     },
     "execution_count": 21,
     "metadata": {},
     "output_type": "execute_result"
    }
   ],
   "source": [
    "np.sum([a[0],b[0]])"
   ]
  },
  {
   "cell_type": "code",
   "execution_count": 22,
   "metadata": {},
   "outputs": [
    {
     "name": "stdout",
     "output_type": "stream",
     "text": [
      "list add :  [1, 2, 3, 4, 5, 6]\n",
      "array add :  [5 7 9]\n",
      "array concatenate :  [1 2 3 4 5 6]\n",
      "array to list :  [1, 2, 3, 4, 5, 6]\n",
      "array mul :  [ 4 10 18]\n",
      "array div :  [ 0.25  0.4   0.5 ]\n",
      "array sub :  [-3 -3 -3]\n"
     ]
    }
   ],
   "source": [
    "v1 = [1,2,3]\n",
    "v2 = [4,5,6]\n",
    "\n",
    "npv1 = np.array([1,2,3])\n",
    "npv2 = np.array([4,5,6])\n",
    "\n",
    "print('list add : ',v1+v2)\n",
    "print('array add : ' , np.array(v1) + np.array(v2))\n",
    "print('array concatenate : ',np.concatenate([npv1,npv2]))\n",
    "print('array to list : ', list(np.concatenate([npv1,npv2])))\n",
    "\n",
    "print('array mul : ', npv1*npv2)\n",
    "print('array div : ', npv1/npv2)\n",
    "print('array sub : ', npv1-npv2)"
   ]
  },
  {
   "cell_type": "code",
   "execution_count": 23,
   "metadata": {},
   "outputs": [
    {
     "name": "stdout",
     "output_type": "stream",
     "text": [
      "sum on numpy array :  6\n",
      "sum on list :  6\n",
      "numpy sum on numpy array :  6\n",
      "numpy sum on list :  6\n"
     ]
    }
   ],
   "source": [
    "print('sum on numpy array : ', sum(npv1))\n",
    "print('sum on list : ', sum(v1))\n",
    "print('numpy sum on numpy array : ', np.sum(npv1))\n",
    "print('numpy sum on list : ',np.sum(v1))"
   ]
  },
  {
   "cell_type": "code",
   "execution_count": 31,
   "metadata": {
    "scrolled": true
   },
   "outputs": [
    {
     "name": "stdout",
     "output_type": "stream",
     "text": [
      "square :  [1 4 9]\n",
      "power :  [ 1.          1.41421356  1.73205081]\n",
      "square root :  [ 1.          1.41421356  1.73205081]\n",
      "power :  [ 1  8 27]\n",
      "log :  [ 0.          0.69314718  1.09861229]\n",
      "exponent :  [  2.71828183   7.3890561   20.08553692]\n",
      "log e :  1.00000000057\n"
     ]
    }
   ],
   "source": [
    "print('square : ' ,np.square(npv1))\n",
    "print('power : ', np.power(npv1,1/2))\n",
    "print('square root : ',np.sqrt(npv1))\n",
    "print('power : ',np.power(npv1,3))\n",
    "print('log : ',np.log(npv1))\n",
    "print('exponent : ',np.exp(npv1))\n",
    "\n",
    "print('log e : ', np.log(2.71828183))"
   ]
  },
  {
   "cell_type": "code",
   "execution_count": 32,
   "metadata": {},
   "outputs": [
    {
     "data": {
      "text/plain": [
       "range(0, 10)"
      ]
     },
     "execution_count": 32,
     "metadata": {},
     "output_type": "execute_result"
    }
   ],
   "source": [
    "range(10)"
   ]
  },
  {
   "cell_type": "code",
   "execution_count": 33,
   "metadata": {},
   "outputs": [
    {
     "name": "stdout",
     "output_type": "stream",
     "text": [
      "[0, 1, 2, 3, 4, 5, 6, 7, 8, 9]\n"
     ]
    }
   ],
   "source": [
    "print(list(range(10)))"
   ]
  },
  {
   "cell_type": "code",
   "execution_count": 34,
   "metadata": {},
   "outputs": [
    {
     "name": "stdout",
     "output_type": "stream",
     "text": [
      "[2, 3, 4, 5, 6, 7, 8, 9]\n"
     ]
    }
   ],
   "source": [
    "print(list(range(2,10)))"
   ]
  },
  {
   "cell_type": "code",
   "execution_count": 35,
   "metadata": {},
   "outputs": [
    {
     "name": "stdout",
     "output_type": "stream",
     "text": [
      "[0, 2, 4, 6, 8]\n"
     ]
    }
   ],
   "source": [
    "print(list(range(0,10,2)))"
   ]
  },
  {
   "cell_type": "code",
   "execution_count": 36,
   "metadata": {
    "scrolled": true
   },
   "outputs": [
    {
     "name": "stdout",
     "output_type": "stream",
     "text": [
      "[10, 9, 8, 7, 6, 5, 4, 3, 2, 1]\n"
     ]
    }
   ],
   "source": [
    "print(list(range(10,0,-1)))"
   ]
  },
  {
   "cell_type": "code",
   "execution_count": 37,
   "metadata": {},
   "outputs": [
    {
     "name": "stdout",
     "output_type": "stream",
     "text": [
      "[2, 3, 4, 5, 6]\n"
     ]
    }
   ],
   "source": [
    "def square(x) : \n",
    "    return x**2\n",
    "\n",
    "a = [2,3,4,5,6]\n",
    "r = []\n",
    "for i in range(len(a)) : \n",
    "    r.append(a[i])\n",
    "    \n",
    "print(r)"
   ]
  },
  {
   "cell_type": "code",
   "execution_count": 45,
   "metadata": {},
   "outputs": [
    {
     "name": "stdout",
     "output_type": "stream",
     "text": [
      "0\n",
      "1\n",
      "2\n",
      "3\n",
      "4\n",
      "5\n",
      "6\n",
      "7\n",
      "8\n",
      "9\n"
     ]
    }
   ],
   "source": [
    "i = 0\n",
    "\n",
    "while i < 10 : \n",
    "    print(i)\n",
    "    i+=1"
   ]
  },
  {
   "cell_type": "code",
   "execution_count": 38,
   "metadata": {},
   "outputs": [
    {
     "name": "stdout",
     "output_type": "stream",
     "text": [
      "[4, 9, 16, 25, 36]\n"
     ]
    }
   ],
   "source": [
    "r = [square(x) for x in a]\n",
    "print(r)"
   ]
  },
  {
   "cell_type": "code",
   "execution_count": 39,
   "metadata": {},
   "outputs": [
    {
     "name": "stdout",
     "output_type": "stream",
     "text": [
      "2.8 µs ± 189 ns per loop (mean ± std. dev. of 7 runs, 100000 loops each)\n",
      "2.25 µs ± 170 ns per loop (mean ± std. dev. of 7 runs, 100000 loops each)\n"
     ]
    }
   ],
   "source": [
    "def ForLoop() : \n",
    "    r = []\n",
    "    for i in range(len(a)) : \n",
    "        r.append(square(a[i]))\n",
    "    \n",
    "def Generator() : \n",
    "    r = [square(x) for x in a]\n",
    "    \n",
    "%timeit ForLoop()\n",
    "%timeit Generator()"
   ]
  },
  {
   "cell_type": "code",
   "execution_count": 47,
   "metadata": {},
   "outputs": [
    {
     "name": "stdout",
     "output_type": "stream",
     "text": [
      "590 ns ± 27.6 ns per loop (mean ± std. dev. of 7 runs, 1000000 loops each)\n"
     ]
    }
   ],
   "source": [
    "def LambdaGenerator() : \n",
    "    r = [lambda x : x**2 for x in a]\n",
    "    \n",
    "%timeit LambdaGenerator()"
   ]
  },
  {
   "cell_type": "code",
   "execution_count": 48,
   "metadata": {},
   "outputs": [
    {
     "name": "stdout",
     "output_type": "stream",
     "text": [
      "[1 2 3 3 4 5 5 6 6 7]\n"
     ]
    }
   ],
   "source": [
    "c = [1,4,7,3,2,5,6,3,5,6]\n",
    "print(np.sort(c))"
   ]
  },
  {
   "cell_type": "code",
   "execution_count": 49,
   "metadata": {},
   "outputs": [
    {
     "name": "stdout",
     "output_type": "stream",
     "text": [
      "Counter({3: 2, 5: 2, 6: 2, 1: 1, 4: 1, 7: 1, 2: 1})\n"
     ]
    }
   ],
   "source": [
    "from collections import Counter \n",
    "\n",
    "print(Counter(c))"
   ]
  },
  {
   "cell_type": "code",
   "execution_count": 52,
   "metadata": {},
   "outputs": [
    {
     "data": {
      "text/plain": [
       "10"
      ]
     },
     "execution_count": 52,
     "metadata": {},
     "output_type": "execute_result"
    }
   ],
   "source": [
    "len(c)"
   ]
  },
  {
   "cell_type": "code",
   "execution_count": 46,
   "metadata": {},
   "outputs": [
    {
     "name": "stdout",
     "output_type": "stream",
     "text": [
      "dict_keys(['basket', 'glass', 'plate'])\n",
      "dict_items([('basket', 'apple'), ('glass', 'water'), ('plate', 'fish')])\n",
      "dict_values(['apple', 'water', 'fish'])\n",
      "apple\n"
     ]
    }
   ],
   "source": [
    "d = { 'basket' : 'apple',\n",
    "    'glass' : 'water',\n",
    "    'plate' : 'fish'}\n",
    "\n",
    "print(d.keys())\n",
    "print(d.items())\n",
    "print(d.values())\n",
    "\n",
    "print(d['basket'])"
   ]
  },
  {
   "cell_type": "code",
   "execution_count": 43,
   "metadata": {},
   "outputs": [
    {
     "name": "stdout",
     "output_type": "stream",
     "text": [
      "['basket', 'glass', 'plate']\n",
      "dict_keys(['basket', 'glass', 'plate'])\n",
      "['basket' 'glass' 'plate']\n"
     ]
    }
   ],
   "source": [
    "print(list(d.keys()))\n",
    "print(np.array(d.keys()))\n",
    "print(np.array(list(d.keys())))"
   ]
  },
  {
   "cell_type": "code",
   "execution_count": null,
   "metadata": {},
   "outputs": [],
   "source": []
  },
  {
   "cell_type": "code",
   "execution_count": null,
   "metadata": {},
   "outputs": [],
   "source": []
  }
 ],
 "metadata": {
  "kernelspec": {
   "display_name": "Python 3",
   "language": "python",
   "name": "python3"
  },
  "language_info": {
   "codemirror_mode": {
    "name": "ipython",
    "version": 3
   },
   "file_extension": ".py",
   "mimetype": "text/x-python",
   "name": "python",
   "nbconvert_exporter": "python",
   "pygments_lexer": "ipython3",
   "version": "3.6.2"
  }
 },
 "nbformat": 4,
 "nbformat_minor": 2
}
